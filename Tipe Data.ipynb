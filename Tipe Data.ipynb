{
 "cells": [
  {
   "cell_type": "code",
   "execution_count": 1,
   "id": "be25b0ae-4da6-4f1a-8eb2-d8c6e01656c5",
   "metadata": {},
   "outputs": [
    {
     "name": "stdout",
     "output_type": "stream",
     "text": [
      "[{'name': 'Company 1', 'domain': 'Retail'}, {'name': 'Company 3', 'domain': 'Healthcare'}, {'name': 'Company 2', 'domain': 'Construction'}]\n"
     ]
    }
   ],
   "source": [
    "def sort_company():\n",
    "    companies = [\n",
    "        {\"name\": \"Company 1\", \"domain\": \"Retail\"},\n",
    "        {\"name\": \"Company 2\", \"domain\": \"Construction\"},\n",
    "        {\"name\": \"Company 3\", \"domain\": \"Healthcare\"}\n",
    "    ]\n",
    "\n",
    "    # Mengurutkan perusahaan berdasarkan domain dalam urutan terbalik\n",
    "    sorted_companies = sorted(companies, key=lambda x: x['domain'], reverse=True)\n",
    "\n",
    "    return sorted_companies\n",
    "\n",
    "# Contoh penggunaan\n",
    "sorted_list = sort_company()\n",
    "print(sorted_list)\n",
    "\n"
   ]
  },
  {
   "cell_type": "code",
   "execution_count": 2,
   "id": "77cd0e44-a938-48ef-a28a-33f39ee2c1df",
   "metadata": {},
   "outputs": [
    {
     "name": "stdout",
     "output_type": "stream",
     "text": [
      "Company 1: Retail, relation: 2 clients\n",
      "Company 2: Construction, relation: 3 clients\n",
      "Company 3: Healthcare, relation: 4 clients\n"
     ]
    }
   ],
   "source": [
    "def get_company_domain():\n",
    "    companies = [\n",
    "        {\"name\": \"Company 1\", \"domain\": \"Retail\", \"clients\": 2},\n",
    "        {\"name\": \"Company 2\", \"domain\": \"Construction\", \"clients\": 3},\n",
    "        {\"name\": \"Company 3\", \"domain\": \"Healthcare\", \"clients\": 4}\n",
    "    ]\n",
    "\n",
    "    for company in companies:\n",
    "        print(f\"{company['name']}: {company['domain']}, relation: {company['clients']} clients\")\n",
    "\n",
    "# Contoh penggunaan\n",
    "get_company_domain()\n"
   ]
  },
  {
   "cell_type": "code",
   "execution_count": 3,
   "id": "44236e1b-2dc6-438f-9d9e-adcafedae43d",
   "metadata": {},
   "outputs": [
    {
     "name": "stdout",
     "output_type": "stream",
     "text": [
      "[{'full_name': 'John Doe', 'company': 'Company 1', 'domain': 'Retail'}, {'full_name': 'Tom Smith', 'company': 'Company 2', 'domain': 'Construction'}, {'full_name': 'Andrew Sebastian', 'company': 'Company 2', 'domain': 'Construction'}]\n"
     ]
    }
   ],
   "source": [
    "def get_employees():\n",
    "    employees = [\n",
    "        {\"full_name\": \"John Doe\", \"company\": \"Company 1\"},\n",
    "        {\"full_name\": \"Tom Smith\", \"company\": \"Company 2\"},\n",
    "        {\"full_name\": \"Andrew Sebastian\", \"company\": \"Company 2\"}\n",
    "    ]\n",
    "\n",
    "    companies = {\n",
    "        \"Company 1\": \"Retail\",\n",
    "        \"Company 2\": \"Construction\"\n",
    "    }\n",
    "\n",
    "    result = []\n",
    "    for employee in employees:\n",
    "        company = employee[\"company\"]\n",
    "        domain = companies.get(company)\n",
    "        if domain:\n",
    "            result.append({\"full_name\": employee[\"full_name\"], \"company\": company, \"domain\": domain})\n",
    "\n",
    "    return result\n",
    "\n",
    "# Contoh penggunaan\n",
    "employee_list = get_employees()\n",
    "print(employee_list)\n"
   ]
  },
  {
   "cell_type": "code",
   "execution_count": 4,
   "id": "a9a7869f-2358-4509-8c18-571aba664a97",
   "metadata": {},
   "outputs": [
    {
     "name": "stdout",
     "output_type": "stream",
     "text": [
      "[{'company': 'Company 1', 'employees': ['John Doe']}, {'company': 'Company 2', 'employees': ['Tom Smith', 'Andrew Sebastian']}, {'company': 'Company 3', 'employees': []}]\n"
     ]
    }
   ],
   "source": [
    "def get_employees_by_company():\n",
    "    companies = [\n",
    "        {\"company\": \"Company 1\", \"employees\": [\"John Doe\"]},\n",
    "        {\"company\": \"Company 2\", \"employees\": [\"Tom Smith\", \"Andrew Sebastian\"]},\n",
    "        {\"company\": \"Company 3\", \"employees\": []}\n",
    "    ]\n",
    "\n",
    "    return companies\n",
    "\n",
    "# Contoh penggunaan\n",
    "company_list = get_employees_by_company()\n",
    "print(company_list)\n"
   ]
  },
  {
   "cell_type": "code",
   "execution_count": null,
   "id": "260b8e53-8302-4cb6-8be4-0da021238b0e",
   "metadata": {},
   "outputs": [],
   "source": []
  },
  {
   "cell_type": "code",
   "execution_count": null,
   "id": "c86cc476-f17f-427d-812d-694d0ae640e8",
   "metadata": {},
   "outputs": [],
   "source": []
  },
  {
   "cell_type": "code",
   "execution_count": null,
   "id": "f652b817-caf9-4479-910a-b209228e5b9d",
   "metadata": {},
   "outputs": [],
   "source": []
  },
  {
   "cell_type": "code",
   "execution_count": null,
   "id": "0a2b6fbd-e6ba-45a6-83ff-bb32b6502f31",
   "metadata": {},
   "outputs": [],
   "source": []
  },
  {
   "cell_type": "code",
   "execution_count": null,
   "id": "dc06a9ae-9be7-494c-a0dd-e7c9bffa160d",
   "metadata": {},
   "outputs": [],
   "source": []
  },
  {
   "cell_type": "code",
   "execution_count": null,
   "id": "e7df18c6-8f33-4692-ad1a-5b31b4074ee4",
   "metadata": {},
   "outputs": [],
   "source": []
  },
  {
   "cell_type": "code",
   "execution_count": null,
   "id": "80a71adc-8beb-4e75-8c13-5c6b6bfbc13b",
   "metadata": {},
   "outputs": [],
   "source": []
  },
  {
   "cell_type": "code",
   "execution_count": null,
   "id": "acdbf9f9-0929-40fd-bccc-f19af56835a6",
   "metadata": {},
   "outputs": [],
   "source": []
  },
  {
   "cell_type": "code",
   "execution_count": null,
   "id": "cfc91f37-a3ca-46ca-9835-f7beb30bcead",
   "metadata": {},
   "outputs": [],
   "source": []
  }
 ],
 "metadata": {
  "kernelspec": {
   "display_name": "Python 3 (ipykernel)",
   "language": "python",
   "name": "python3"
  },
  "language_info": {
   "codemirror_mode": {
    "name": "ipython",
    "version": 3
   },
   "file_extension": ".py",
   "mimetype": "text/x-python",
   "name": "python",
   "nbconvert_exporter": "python",
   "pygments_lexer": "ipython3",
   "version": "3.11.7"
  }
 },
 "nbformat": 4,
 "nbformat_minor": 5
}
